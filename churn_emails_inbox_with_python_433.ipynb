{
 "cells": [
  {
   "cell_type": "markdown",
   "metadata": {},
   "source": [
    "<font size=5>**Python Project - Churn Emails - Step 1 - Load the Dataset**</font>"
   ]
  },
  {
   "cell_type": "code",
   "execution_count": 1,
   "metadata": {
    "scrolled": true
   },
   "outputs": [
    {
     "name": "stdout",
     "output_type": "stream",
     "text": [
      "From stephen.marquard@uct.ac.za Sat Jan  5 09:14:16 2008\r\n",
      "Return-Path: <postmaster@collab.sakaiproject.org>\r\n",
      "Received: from murder (mail.umich.edu [141.211.14.90])\r\n",
      "\t by frankenstein.mail.umich.edu (Cyrus v2.3.8) with LMTPA;\r\n",
      "\t Sat, 05 Jan 2008 09:14:16 -0500\r\n",
      "X-Sieve: CMU Sieve 2.3\r\n",
      "Received: from murder ([unix socket])\r\n",
      "\t by mail.umich.edu (Cyrus v2.2.12) with LMTPA;\r\n",
      "\t Sat, 05 Jan 2008 09:14:16 -0500\r\n",
      "Received: from holes.mr.itd.umich.edu (holes.mr.itd.umich.edu [141.211.14.79])\r\n",
      "\tby flawless.mail.umich.edu () with ESMTP id m05EEFR1013674;\r\n",
      "\tSat, 5 Jan 2008 09:14:15 -0500\r\n",
      "Received: FROM paploo.uhi.ac.uk (app1.prod.collab.uhi.ac.uk [194.35.219.184])\r\n",
      "\tBY holes.mr.itd.umich.edu ID 477F90B0.2DB2F.12494 ; \r\n",
      "\t 5 Jan 2008 09:14:10 -0500\r\n"
     ]
    }
   ],
   "source": [
    "!head -n15 /cxldata/datasets/project/mbox-short.txt"
   ]
  },
  {
   "cell_type": "markdown",
   "metadata": {},
   "source": [
    "<font size=4>**Count the Number of Lines**</font>"
   ]
  },
  {
   "cell_type": "code",
   "execution_count": 2,
   "metadata": {},
   "outputs": [
    {
     "data": {
      "text/plain": [
       "1910"
      ]
     },
     "execution_count": 2,
     "metadata": {},
     "output_type": "execute_result"
    }
   ],
   "source": [
    "def number_of_lines():\n",
    "    with open('/cxldata/datasets/project/mbox-short.txt') as f:\n",
    "        data = f.read()\n",
    "        lines = data.splitlines()\n",
    "        return len(lines)\n",
    "        \n",
    "number_of_lines()        "
   ]
  },
  {
   "cell_type": "markdown",
   "metadata": {},
   "source": [
    "<font size=5>**Step 2 - Explore Content of Emails**</font>\n",
    "- <font size=4>**Count the Number of Subject Lines**</font>"
   ]
  },
  {
   "cell_type": "code",
   "execution_count": 3,
   "metadata": {},
   "outputs": [
    {
     "data": {
      "text/plain": [
       "27"
      ]
     },
     "execution_count": 3,
     "metadata": {},
     "output_type": "execute_result"
    }
   ],
   "source": [
    "def count_number_of_lines():\n",
    "    with open('/cxldata/datasets/project/mbox-short.txt') as f:\n",
    "        count = 0\n",
    "        for line in f:\n",
    "            line = line.rstrip()\n",
    "            if line.startswith('Subject:'):\n",
    "                count += 1\n",
    "    return count\n",
    "            \n",
    "count_number_of_lines()        "
   ]
  },
  {
   "cell_type": "markdown",
   "metadata": {},
   "source": [
    "<font size=4>**Find Average Spam Confidence**</font>"
   ]
  },
  {
   "cell_type": "code",
   "execution_count": 4,
   "metadata": {
    "scrolled": false
   },
   "outputs": [
    {
     "data": {
      "text/plain": [
       "0.7507185185185187"
      ]
     },
     "execution_count": 4,
     "metadata": {},
     "output_type": "execute_result"
    }
   ],
   "source": [
    "def average_spam_confidence():\n",
    "    with open ('/cxldata/datasets/project/mbox-short.txt') as f:\n",
    "        count = 0\n",
    "        total = 0\n",
    "        for line in f:\n",
    "            line = line.rstrip()\n",
    "            if line.startswith('X-DSPAM-Confidence:'):\n",
    "                var, value = line.split(':')\n",
    "                total += float(value.strip())\n",
    "                count += 1\n",
    "#                 print(\"Total: \",total, \"Value: \", value)\n",
    "        return (total/count)\n",
    "\n",
    "average_spam_confidence()"
   ]
  },
  {
   "cell_type": "markdown",
   "metadata": {},
   "source": [
    "<font size=4>**Find Which Day of the Week the Email was sent**</font>"
   ]
  },
  {
   "cell_type": "code",
   "execution_count": 5,
   "metadata": {},
   "outputs": [
    {
     "data": {
      "text/plain": [
       "{'Sat': 1, 'Fri': 20, 'Thu': 6}"
      ]
     },
     "execution_count": 5,
     "metadata": {},
     "output_type": "execute_result"
    }
   ],
   "source": [
    "def find_email_sent_days():\n",
    "    with open ('/cxldata/datasets/project/mbox-short.txt') as f:\n",
    "        days_count = {}\n",
    "        for line in f:\n",
    "            line = line.rstrip()\n",
    "            if line.startswith('From'):\n",
    "                words = line.split()\n",
    "                if len(words) > 2:\n",
    "                    day = words[2]\n",
    "                    days_count[day] = days_count.get(day, 0) + 1\n",
    "    return days_count\n",
    "    \n",
    "find_email_sent_days()"
   ]
  },
  {
   "cell_type": "markdown",
   "metadata": {},
   "source": [
    "<font size=5>**Step 3 - Explore Header of Emails**</font>\n",
    "- <font size=4>**Count Number of Messages From Each Email Address**</font>"
   ]
  },
  {
   "cell_type": "code",
   "execution_count": 6,
   "metadata": {},
   "outputs": [
    {
     "name": "stdout",
     "output_type": "stream",
     "text": [
      "{'stephen.marquard@uct.ac.za': 2, 'louis@media.berkeley.edu': 3, 'zqian@umich.edu': 4, 'rjlowe@iupui.edu': 2, 'cwen@iupui.edu': 5, 'gsilver@umich.edu': 3, 'wagnermr@iupui.edu': 1, 'antranig@caret.cam.ac.uk': 1, 'gopal.ramasammycook@gmail.com': 1, 'david.horwitz@uct.ac.za': 4, 'ray@media.berkeley.edu': 1}\n"
     ]
    }
   ],
   "source": [
    "def count_message_from_email():\n",
    "    with open ('/cxldata/datasets/project/mbox-short.txt') as f:\n",
    "        email_count = {}\n",
    "        for line in f:\n",
    "            line = line.rstrip()\n",
    "            \n",
    "            if line.startswith('From:'):\n",
    "                words = line.split()\n",
    "                email = words[1]\n",
    "#                 print(f\"Email Found: {email}\")\n",
    "                email_count[email] = email_count.get(email, 0) +1 \n",
    "    return email_count\n",
    "\n",
    "result = count_message_from_email()\n",
    "print(result)"
   ]
  },
  {
   "cell_type": "markdown",
   "metadata": {},
   "source": [
    "<font size=4>**Count Number of Messages From Each Domain**</font>"
   ]
  },
  {
   "cell_type": "code",
   "execution_count": 7,
   "metadata": {
    "scrolled": true
   },
   "outputs": [
    {
     "name": "stdout",
     "output_type": "stream",
     "text": [
      "{'uct.ac.za': 6, 'media.berkeley.edu': 4, 'umich.edu': 7, 'iupui.edu': 8, 'caret.cam.ac.uk': 1, 'gmail.com': 1}\n"
     ]
    }
   ],
   "source": [
    "def count_message_from_domain():\n",
    "    with open ('/cxldata/datasets/project/mbox-short.txt') as f:\n",
    "        domain_count = {}\n",
    "        for line in f:\n",
    "            line = line.rstrip()\n",
    "            if line.startswith('From:'):\n",
    "                words = line.split()\n",
    "                email = words[1]\n",
    "                domain = email.split('@')[1]\n",
    "                domain_count[domain] = domain_count.get(domain, 0) + 1\n",
    "    return domain_count\n",
    "\n",
    "result = count_message_from_domain()\n",
    "print(result)"
   ]
  },
  {
   "cell_type": "markdown",
   "metadata": {},
   "source": [
    "<font size=5>**Author**</font>"
   ]
  },
  {
   "cell_type": "markdown",
   "metadata": {},
   "source": [
    "- **Prince Raj**"
   ]
  }
 ],
 "metadata": {
  "kernelspec": {
   "display_name": "Python 3",
   "language": "python",
   "name": "python3"
  },
  "language_info": {
   "codemirror_mode": {
    "name": "ipython",
    "version": 3
   },
   "file_extension": ".py",
   "mimetype": "text/x-python",
   "name": "python",
   "nbconvert_exporter": "python",
   "pygments_lexer": "ipython3",
   "version": "3.6.8"
  },
  "toc": {
   "base_numbering": 1,
   "nav_menu": {},
   "number_sections": true,
   "sideBar": true,
   "skip_h1_title": false,
   "title_cell": "Table of Contents",
   "title_sidebar": "Contents",
   "toc_cell": false,
   "toc_position": {},
   "toc_section_display": true,
   "toc_window_display": false
  }
 },
 "nbformat": 4,
 "nbformat_minor": 2
}
